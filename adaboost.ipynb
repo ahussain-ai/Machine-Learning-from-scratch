{
 "cells": [
  {
   "cell_type": "code",
   "execution_count": 10,
   "id": "5425b5dc-c70e-4c86-a6c1-7da942dc5a8d",
   "metadata": {},
   "outputs": [],
   "source": [
    "import numpy as np\n",
    "import matplotlib.pyplot as plt \n",
    "from sklearn.datasets import load_iris\n",
    "from sklearn.tree import DecisionTreeClassifier"
   ]
  },
  {
   "cell_type": "code",
   "execution_count": 11,
   "id": "f142151b-7777-47b0-a0b3-d528914f42ae",
   "metadata": {},
   "outputs": [],
   "source": [
    "iris = load_iris()\n",
    "X = iris.data\n",
    "y = iris.target"
   ]
  },
  {
   "cell_type": "code",
   "execution_count": 12,
   "id": "d3ca6f95-2582-45f2-a56a-0ebb48dfdc4f",
   "metadata": {},
   "outputs": [],
   "source": [
    "def initialize_weights(num_samples):\n",
    "\n",
    "    weights = np.ones(num_samples) / num_samples\n",
    "#     print(f\"weights {weights}\")\n",
    "    return weights"
   ]
  },
  {
   "cell_type": "code",
   "execution_count": 13,
   "id": "5783d18d-8825-441a-84a7-a2926c7e6a2f",
   "metadata": {},
   "outputs": [],
   "source": [
    "def calculate_error(y_true, y_pred, weights):\n",
    "    \n",
    "    error =  np.sum(weights * (y_pred != y_true))\n",
    "#     print(f\"Error {error} \")\n",
    "    return error"
   ]
  },
  {
   "cell_type": "code",
   "execution_count": 14,
   "id": "e191bf45-3c1f-465a-be56-a1cf4d80563d",
   "metadata": {},
   "outputs": [],
   "source": [
    "def update_weights(weights, alpha, y_true, y_pred):\n",
    "    \n",
    "    updated_weights = weights * np.exp(-alpha * y_true * y_pred)\n",
    "    new_weights = updated_weights / np.sum(updated_weights) #normalize the weights\n",
    "#     print(f\"New Weights {new_weights}\")\n",
    "\n",
    "    return new_weights"
   ]
  },
  {
   "cell_type": "code",
   "execution_count": 15,
   "id": "1fd6a518-266c-4bf1-a889-cf03f7e3e98b",
   "metadata": {},
   "outputs": [],
   "source": [
    "def adaboost(X, y, num_iterations):\n",
    "    \n",
    "    n_samples, n_features = X.shape\n",
    "    weights = initialize_weights(n_samples)\n",
    "    models = []\n",
    "    alphas = []\n",
    "    errors = []\n",
    "\n",
    "    for _ in range(num_iterations):\n",
    "       \n",
    "        model = DecisionTreeClassifier(max_depth=1) # Decision stumps \n",
    "        model.fit(X, y, sample_weight=weights)\n",
    "\n",
    "     \n",
    "        y_pred = model.predict(X)\n",
    "\n",
    "    \n",
    "        error = calculate_error(y, y_pred, weights)\n",
    "        print(f\"Epoch {_+1} )\n",
    "        errors.append(error)\n",
    "\n",
    "        alpha = 0.5 * np.log((1 - error) / (error + 1e-10))\n",
    "        alphas.append(alpha)\n",
    "\n",
    "\n",
    "        weights = update_weights(weights, alpha, y, y_pred)\n",
    "\n",
    "        models.append(model)\n",
    "\n",
    "    return models, alphas, errors\n"
   ]
  },
  {
   "cell_type": "code",
   "execution_count": 16,
   "id": "5b6c5612-c006-4b2a-993a-83894477d692",
   "metadata": {},
   "outputs": [],
   "source": [
    "\n",
    "def adaboost_predict(models, alphas, X):\n",
    "    \n",
    "    predictions = np.zeros(len(X))\n",
    "    for model, alpha in zip(models, alphas):\n",
    "        predictions += alpha * model.predict(X)\n",
    "    return np.sign(predictions)\n",
    "\n"
   ]
  },
  {
   "cell_type": "code",
   "execution_count": 17,
   "id": "720d7151-7e62-4122-9a10-b9a5b63de487",
   "metadata": {},
   "outputs": [
    {
     "name": "stdout",
     "output_type": "stream",
     "text": [
      "Accuracy: 67.0\n"
     ]
    }
   ],
   "source": [
    "\n",
    "# # Convert labels to binary (-1 and 1)\n",
    "# y[y == 0] = -1\n",
    "\n",
    "# Train Adaboost\n",
    "num_iterations = 50\n",
    "models, alphas,errors  = adaboost(X, y, num_iterations)\n",
    "\n",
    "# Make predictions\n",
    "y_pred = adaboost_predict(models, alphas, X)\n",
    "\n",
    "# Calculate accuracy\n",
    "accuracy = np.mean(y_pred == y)\n",
    "print(\"Accuracy:\", np.ceil( accuracy *100))"
   ]
  },
  {
   "cell_type": "code",
   "execution_count": 18,
   "id": "0c2fded5-e98a-4f0e-b250-bb4d4c80cf8d",
   "metadata": {},
   "outputs": [
    {
     "data": {
      "image/png": "[encoded data removed]",
      "text/plain": [
       "<Figure size 640x480 with 1 Axes>"
      ]
     },
     "metadata": {},
     "output_type": "display_data"
    }
   ],
   "source": [
    "plt.plot(list(range(1,num_iterations+1)), errors, color='black')\n",
    "plt.xlabel('Epoch')\n",
    "plt.ylabel('Loss')\n",
    "plt.title('Loss vs epoch')\n",
    "plt.show()"
   ]
  },
  {
   "cell_type": "code",
   "execution_count": null,
   "id": "e28ecbc2-ae52-420f-bfbb-15150fde2c65",
   "metadata": {},
   "outputs": [],
   "source": []
  }
 ],
 "metadata": {
  "kernelspec": {
   "display_name": "Python 3 (ipykernel)",
   "language": "python",
   "name": "python3"
  },
  "language_info": {
   "codemirror_mode": {
    "name": "ipython",
    "version": 3
   },
   "file_extension": ".py",
   "mimetype": "text/x-python",
   "name": "python",
   "nbconvert_exporter": "python",
   "pygments_lexer": "ipython3",
   "version": "3.10.9"
  }
 },
 "nbformat": 4,
 "nbformat_minor": 5
}
