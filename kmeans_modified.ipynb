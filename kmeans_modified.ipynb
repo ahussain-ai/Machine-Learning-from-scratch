{
 "cells": [
  {
   "cell_type": "code",
   "execution_count": 1,
   "id": "d1495e3d",
   "metadata": {},
   "outputs": [],
   "source": [
    "import numpy as np \n",
    "import pandas as pd \n",
    "import random"
   ]
  },
  {
   "cell_type": "code",
   "execution_count": 5,
   "id": "4511d74c",
   "metadata": {},
   "outputs": [
    {
     "ename": "TypeError",
     "evalue": "random_sample() takes at most 1 positional argument (3 given)",
     "output_type": "error",
     "traceback": [
      "\u001b[1;31m---------------------------------------------------------------------------\u001b[0m",
      "\u001b[1;31mTypeError\u001b[0m                                 Traceback (most recent call last)",
      "Cell \u001b[1;32mIn[5], line 1\u001b[0m\n\u001b[1;32m----> 1\u001b[0m data \u001b[38;5;241m=\u001b[39m [[\u001b[43mnp\u001b[49m\u001b[38;5;241;43m.\u001b[39;49m\u001b[43mrandom\u001b[49m\u001b[38;5;241;43m.\u001b[39;49m\u001b[43msample\u001b[49m\u001b[43m(\u001b[49m\u001b[38;5;241;43m1\u001b[39;49m\u001b[43m,\u001b[49m\u001b[38;5;241;43m100\u001b[39;49m\u001b[43m,\u001b[49m\u001b[38;5;241;43m100\u001b[39;49m\u001b[43m)\u001b[49m]]\n\u001b[0;32m      2\u001b[0m data\n",
      "File \u001b[1;32mmtrand.pyx:4708\u001b[0m, in \u001b[0;36mnumpy.random.mtrand.sample\u001b[1;34m()\u001b[0m\n",
      "File \u001b[1;32mmtrand.pyx:374\u001b[0m, in \u001b[0;36mnumpy.random.mtrand.RandomState.random_sample\u001b[1;34m()\u001b[0m\n",
      "\u001b[1;31mTypeError\u001b[0m: random_sample() takes at most 1 positional argument (3 given)"
     ]
    }
   ],
   "source": [
    "data = "
   ]
  },
  {
   "cell_type": "code",
   "execution_count": 4,
   "id": "097bffb3",
   "metadata": {},
   "outputs": [
    {
     "data": {
      "text/plain": [
       "[[2, 3, 5],\n",
       " [3, 4, 6],\n",
       " [4, 3, 5],\n",
       " [5, 4, 6],\n",
       " [6, 3, 5],\n",
       " [8, 7, 9],\n",
       " [9, 8, 10],\n",
       " [10, 7, 9],\n",
       " [11, 8, 10],\n",
       " [12, 7, 9],\n",
       " [5, 5, 2],\n",
       " [6, 5, 2],\n",
       " [5, 6, 3],\n",
       " [6, 6, 3],\n",
       " [7, 6, 2]]"
      ]
     },
     "execution_count": 4,
     "metadata": {},
     "output_type": "execute_result"
    }
   ],
   "source": [
    "points"
   ]
  },
  {
   "cell_type": "code",
   "execution_count": 13,
   "id": "3c0d8549",
   "metadata": {},
   "outputs": [],
   "source": [
    "def minkowski_distance(p1, p2, p=3):\n",
    "    p1 = np.array(p1)\n",
    "    p2 = np.array(p2)\n",
    "    \n",
    "    point_sum = np.sum(np.abs(p1 - p2)**p)\n",
    "    \n",
    "    return point_sum**(1/p)"
   ]
  },
  {
   "cell_type": "code",
   "execution_count": 14,
   "id": "3a0b60f1",
   "metadata": {},
   "outputs": [],
   "source": [
    "\n",
    "\n",
    "def find_new_centroid(clusters):\n",
    "    new_centroids = {}\n",
    "\n",
    "    for cluster_index, points in clusters.items():\n",
    "        if len(points) > 0:\n",
    "            cluster_mean = np.mean(points, axis=0)\n",
    "            new_centroids[cluster_index] = cluster_mean.tolist()\n",
    "        else:\n",
    "            new_centroids[cluster_index] = None  # Handle empty clusters\n",
    "\n",
    "    return new_centroids\n"
   ]
  },
  {
   "cell_type": "code",
   "execution_count": 15,
   "id": "aa7a9005",
   "metadata": {},
   "outputs": [],
   "source": [
    "def kmeans_modified(points, k1=2, k2=3, margin=0.008, max_iters=1000):\n",
    "    if len(points) < k1 + k2:\n",
    "        raise ValueError(\"Insufficient points for the specified cluster sizes\")\n",
    "\n",
    "    # Initialize centroids for the first two clusters\n",
    "    centroids = np.array(random.sample(points, k1 + k2))\n",
    "\n",
    "    # Ensure that the first cluster has 2 points and the second cluster has 3 points\n",
    "    clusters = {i: [] for i in range(k1 + k2)}\n",
    "    for i in range(k1 + k2):\n",
    "        clusters[i].append(centroids[i])\n",
    "\n",
    "    # Assign the remaining points to the nearest cluster using Minkowski distance with p=3\n",
    "    remaining_points = [point for point in points if point not in centroids]\n",
    "    for point in remaining_points:\n",
    "        distances = [minkowski_distance(point, centroid, p=3) for centroid in centroids]\n",
    "        nearest_cluster = np.argmin(distances)\n",
    "        clusters[nearest_cluster].append(point)\n",
    "\n",
    "    print(\"Initial centroids\", centroids)\n",
    "\n",
    "    for _ in range(max_iters):\n",
    "        # Calculate new centroids\n",
    "        new_centroids = {i: np.mean(cluster, axis=0) for i, cluster in clusters.items()}\n",
    "\n",
    "        print(\"Final centroids\", new_centroids)\n",
    "\n",
    "        # Check for convergence\n",
    "        if np.linalg.norm(np.array(list(new_centroids.values())) - centroids) <= margin:\n",
    "            break\n",
    "\n",
    "        centroids = np.array(list(new_centroids.values()))\n",
    "\n",
    "        # Update clusters based on the new centroids and Minkowski distance with p=3\n",
    "        clusters = {i: [] for i in range(k1 + k2)}\n",
    "        for point in points:\n",
    "            distances = [minkowski_distance(point, centroid, p=3) for centroid in centroids]\n",
    "            nearest_cluster = np.argmin(distances)\n",
    "            clusters[nearest_cluster].append(point)\n",
    "\n",
    "    return clusters\n"
   ]
  },
  {
   "cell_type": "code",
   "execution_count": 16,
   "id": "cee78ef9",
   "metadata": {},
   "outputs": [
    {
     "name": "stdout",
     "output_type": "stream",
     "text": [
      "Initial centroid [[ 4  3  5]\n",
      " [ 8  7  9]\n",
      " [10  7  9]]\n",
      "Final centroid [[ 4.9         4.5         3.9       ]\n",
      " [ 8.5         7.5         9.5       ]\n",
      " [11.          7.33333333  9.33333333]]\n",
      "Final centroid [[ 4.9         4.5         3.9       ]\n",
      " [ 8.5         7.5         9.5       ]\n",
      " [11.          7.33333333  9.33333333]]\n"
     ]
    }
   ],
   "source": [
    "clusters = kmeans(points, 3)"
   ]
  },
  {
   "cell_type": "code",
   "execution_count": 17,
   "id": "b7d40ce4",
   "metadata": {},
   "outputs": [
    {
     "data": {
      "text/plain": [
       "{0: [[2, 3, 5],\n",
       "  [3, 4, 6],\n",
       "  [4, 3, 5],\n",
       "  [5, 4, 6],\n",
       "  [6, 3, 5],\n",
       "  [5, 5, 2],\n",
       "  [6, 5, 2],\n",
       "  [5, 6, 3],\n",
       "  [6, 6, 3],\n",
       "  [7, 6, 2]],\n",
       " 1: [[8, 7, 9], [9, 8, 10]],\n",
       " 2: [[10, 7, 9], [11, 8, 10], [12, 7, 9]]}"
      ]
     },
     "execution_count": 17,
     "metadata": {},
     "output_type": "execute_result"
    }
   ],
   "source": [
    "clusters"
   ]
  },
  {
   "cell_type": "code",
   "execution_count": null,
   "id": "52e72389",
   "metadata": {},
   "outputs": [],
   "source": []
  },
  {
   "cell_type": "code",
   "execution_count": null,
   "id": "43fdf61d",
   "metadata": {},
   "outputs": [],
   "source": []
  },
  {
   "cell_type": "code",
   "execution_count": null,
   "id": "4d3b6fb8",
   "metadata": {},
   "outputs": [],
   "source": []
  },
  {
   "cell_type": "code",
   "execution_count": null,
   "id": "725a7af6",
   "metadata": {},
   "outputs": [],
   "source": []
  },
  {
   "cell_type": "code",
   "execution_count": null,
   "id": "6b0072d1",
   "metadata": {},
   "outputs": [],
   "source": []
  }
 ],
 "metadata": {
  "kernelspec": {
   "display_name": "Python 3 (ipykernel)",
   "language": "python",
   "name": "python3"
  },
  "language_info": {
   "codemirror_mode": {
    "name": "ipython",
    "version": 3
   },
   "file_extension": ".py",
   "mimetype": "text/x-python",
   "name": "python",
   "nbconvert_exporter": "python",
   "pygments_lexer": "ipython3",
   "version": "3.10.9"
  }
 },
 "nbformat": 4,
 "nbformat_minor": 5
}
