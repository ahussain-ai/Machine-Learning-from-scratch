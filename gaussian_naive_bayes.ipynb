{
 "cells": [
  {
   "cell_type": "code",
   "execution_count": 1,
   "id": "c7532681",
   "metadata": {},
   "outputs": [],
   "source": [
    "import numpy as np\n",
    "from sklearn.datasets import load_iris\n",
    "from sklearn.model_selection import train_test_split\n",
    "from scipy.stats import norm\n",
    "\n"
   ]
  },
  {
   "cell_type": "code",
   "execution_count": 17,
   "id": "a0ffd075",
   "metadata": {},
   "outputs": [],
   "source": [
    "import warnings \n",
    "warnings.filterwarnings('ignore')"
   ]
  },
  {
   "cell_type": "code",
   "execution_count": 2,
   "id": "430a5d2c",
   "metadata": {},
   "outputs": [],
   "source": [
    "def load_dataset():\n",
    "    iris = load_iris()\n",
    "    X = iris.data\n",
    "    y = iris.target\n",
    "    return X, y\n"
   ]
  },
  {
   "cell_type": "code",
   "execution_count": 10,
   "id": "e8f1cbaf",
   "metadata": {},
   "outputs": [],
   "source": [
    "\n",
    "def train_test_split_data(X, y, test_size=0.7, random_state=42):\n",
    "    return train_test_split(X, y, test_size=test_size, random_state=random_state)\n"
   ]
  },
  {
   "cell_type": "code",
   "execution_count": 11,
   "id": "f0d881dc",
   "metadata": {},
   "outputs": [],
   "source": [
    "\n",
    "def calculate_class_priors(y):\n",
    "    unique_classes, class_counts = np.unique(y, return_counts=True)\n",
    "    priors = class_counts / len(y)\n",
    "    return priors\n"
   ]
  },
  {
   "cell_type": "code",
   "execution_count": 12,
   "id": "1e1d3c4c",
   "metadata": {},
   "outputs": [],
   "source": [
    "\n",
    "def calculate_class_means_variances(X, y):\n",
    "    unique_classes = np.unique(y)\n",
    "    means = []\n",
    "    variances = []\n",
    "    for c in unique_classes:\n",
    "        X_c = X[y == c]\n",
    "        means.append(np.mean(X_c, axis=0))\n",
    "        variances.append(np.var(X_c, axis=0))\n",
    "    return means, variances\n"
   ]
  },
  {
   "cell_type": "code",
   "execution_count": 13,
   "id": "49d18471",
   "metadata": {},
   "outputs": [],
   "source": [
    "\n",
    "def gaussian_pdf(x, mean, variance):\n",
    "    return norm(mean, np.sqrt(variance)).pdf(x)\n"
   ]
  },
  {
   "cell_type": "code",
   "execution_count": 14,
   "id": "9fda3a8f",
   "metadata": {},
   "outputs": [],
   "source": [
    "\n",
    "def predict(X, class_priors, class_means, class_variances):\n",
    "    predictions = []\n",
    "    for x in X:\n",
    "        posteriors = []\n",
    "        for i in range(len(class_priors)):\n",
    "            prior = class_priors[i]\n",
    "            mean = class_means[i]\n",
    "            variance = class_variances[i]\n",
    "            likelihood = np.sum(np.log(gaussian_pdf(x, mean, variance)))\n",
    "            posterior = np.log(prior) + likelihood\n",
    "            posteriors.append(posterior)\n",
    "        predictions.append(np.argmax(posteriors))\n",
    "    return predictions\n"
   ]
  },
  {
   "cell_type": "code",
   "execution_count": 15,
   "id": "dc5c164c",
   "metadata": {},
   "outputs": [],
   "source": [
    "\n",
    "def gnb():\n",
    "    X, y = load_dataset()\n",
    "    X_train, X_test, y_train, y_test = train_test_split_data(X, y)\n",
    "    class_priors = calculate_class_priors(y_train)\n",
    "    class_means, class_variances = calculate_class_means_variances(X_train, y_train)\n",
    "    predictions = predict(X_test, class_priors, class_means, class_variances)\n",
    "    accuracy = np.mean(predictions == y_test)\n",
    "    print(\"Accuracy:\", accuracy)\n",
    "\n",
    "    "
   ]
  },
  {
   "cell_type": "code",
   "execution_count": 16,
   "id": "7285e119",
   "metadata": {},
   "outputs": [
    {
     "name": "stderr",
     "output_type": "stream",
     "text": [
      "C:\\Users\\Atowar\\AppData\\Local\\Temp\\ipykernel_13624\\363945526.py:9: RuntimeWarning: divide by zero encountered in log\n",
      "  likelihood = np.sum(np.log(gaussian_pdf(x, mean, variance)))\n"
     ]
    },
    {
     "name": "stdout",
     "output_type": "stream",
     "text": [
      "Accuracy: 0.9428571428571428\n"
     ]
    }
   ],
   "source": [
    "gnb()"
   ]
  },
  {
   "cell_type": "code",
   "execution_count": null,
   "id": "89c1d6f8",
   "metadata": {},
   "outputs": [],
   "source": []
  }
 ],
 "metadata": {
  "kernelspec": {
   "display_name": "Python 3 (ipykernel)",
   "language": "python",
   "name": "python3"
  },
  "language_info": {
   "codemirror_mode": {
    "name": "ipython",
    "version": 3
   },
   "file_extension": ".py",
   "mimetype": "text/x-python",
   "name": "python",
   "nbconvert_exporter": "python",
   "pygments_lexer": "ipython3",
   "version": "3.10.9"
  }
 },
 "nbformat": 4,
 "nbformat_minor": 5
}
