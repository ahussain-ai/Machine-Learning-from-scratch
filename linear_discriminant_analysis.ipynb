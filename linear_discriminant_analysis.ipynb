{
 "cells": [
  {
   "cell_type": "code",
   "execution_count": 1,
   "id": "0a0b0670-15a3-424b-b104-1e192fea40cf",
   "metadata": {},
   "outputs": [],
   "source": [
    "import numpy as np\n",
    "import pandas as pd\n",
    "import matplotlib.pyplot as plt"
   ]
  },
  {
   "cell_type": "code",
   "execution_count": 2,
   "id": "efb00606-7630-4c7c-9e06-7d601dd6cd32",
   "metadata": {},
   "outputs": [],
   "source": [
    "from sklearn.datasets import load_iris\n",
    "from sklearn.preprocessing import StandardScaler, LabelEncoder\n",
    "from sklearn.model_selection import train_test_split"
   ]
  },
  {
   "cell_type": "code",
   "execution_count": 3,
   "id": "2bd441f9-08f5-43ac-8180-6c69daba3405",
   "metadata": {},
   "outputs": [],
   "source": [
    "\n",
    "iris = load_iris()\n",
    "dataset = pd.DataFrame(columns=iris.feature_names,\n",
    "                       data=iris.data)\n",
    "dataset['target'] = iris.target\n"
   ]
  },
  {
   "cell_type": "code",
   "execution_count": 4,
   "id": "d8465ad5-5fe2-47d1-be04-77eb9f1caf3c",
   "metadata": {},
   "outputs": [],
   "source": [
    "\n",
    "X = dataset.iloc[:, 0:4].values\n",
    "y = dataset.iloc[:, 4].values\n",
    "\n",
    "sc = StandardScaler()\n",
    "X = sc.fit_transform(X)\n",
    "le = LabelEncoder()\n",
    "y = le.fit_transform(y)\n",
    "X_train, X_test,\\\n",
    "    y_train, y_test = train_test_split(X, y,\n",
    "                                       test_size=0.2)"
   ]
  },
  {
   "cell_type": "code",
   "execution_count": 5,
   "id": "c90792a2-2c32-4f4d-95ba-1b52ed0c7f67",
   "metadata": {},
   "outputs": [],
   "source": [
    "def get_mean_vectors(X, y):\n",
    " \n",
    "    #get classwise mean of each features\n",
    "    unique_classes = np.unique(y)\n",
    "    mv = []\n",
    "    for cl in unique_classes:\n",
    "        mv.append(np.mean(X[y == cl], axis=0))\n",
    "    \n",
    "    return mv\n"
   ]
  },
  {
   "cell_type": "code",
   "execution_count": 22,
   "id": "c0ee7ec3-4508-441f-8fca-0f0f389751be",
   "metadata": {},
   "outputs": [],
   "source": [
    "def within_class_scatter_matrix(X, y, mean_vectors):\n",
    "\n",
    "    Sw = np.zeros((X.shape[1], X.shape[1]))\n",
    "    unique_classes = np.unique(y)\n",
    "    for cl, mv in zip(unique_classes, mean_vectors):\n",
    "        class_sc_mat = np.zeros((X.shape[1], X.shape[1]))\n",
    "        for row in X[y == cl]:\n",
    "            row, mv = row.reshape(X.shape[1],1), mv.reshape(X.shape[1],1) \n",
    "            class_sc_mat += (row-mv).dot((row-mv).T)\n",
    "        Sw += class_sc_mat\n",
    "    return Sw"
   ]
  },
  {
   "cell_type": "code",
   "execution_count": 32,
   "id": "87ef6a70-2abc-40de-80a9-d0758555f907",
   "metadata": {},
   "outputs": [],
   "source": [
    "def between_class_scatter_matrix(X, y, mean_vectors):\n",
    "    \n",
    "    overall_mean = np.mean(X, axis=0)\n",
    "    Sb = np.zeros((X.shape[1], X.shape[1]))\n",
    "    unique_classes = np.unique(y)\n",
    "    for cl, mv in zip(unique_classes, mean_vectors):  \n",
    "        n = X[y==cl,:].shape[0]\n",
    "        mv = mv.reshape(X.shape[1],1) \n",
    "        overall_mean = overall_mean.reshape(X.shape[1],1) \n",
    "        Sb += n * (mv - overall_mean).dot((mv - overall_mean).T) # Classmise mean of each feature - overall mean of each featrure\n",
    "    \n",
    "    return Sb"
   ]
  },
  {
   "cell_type": "code",
   "execution_count": 33,
   "id": "bd2e6900-8c80-4009-a00b-3797cf924b1b",
   "metadata": {},
   "outputs": [],
   "source": [
    "def lda(X, y, n_components):\n",
    "\n",
    "    mean_vectors = get_mean_vectors(X, y)\n",
    "    Sw = within_class_scatter_matrix(X, y, mean_vectors)\n",
    "    Sb = between_class_scatter_matrix(X, y, mean_vectors)\n",
    "    \n",
    "    eig_vals, eig_vecs = np.linalg.eig(np.linalg.inv(Sw).dot(Sb))\n",
    "    print(f\"eig vecs shape {eig_vecs.shape}\")\n",
    "    eig_pairs = [(np.abs(eig_vals[i]), eig_vecs[:,i]) for i in range(len(eig_vals))]\n",
    "\n",
    "    eig_pairs = sorted(eig_pairs, key=lambda k: k[0], reverse=True)\n",
    "    \n",
    "    projection_matrix = np.array([eig_pairs[i][1] for i in range(n_components)])\n",
    "\n",
    "    return projection_matrix"
   ]
  },
  {
   "cell_type": "code",
   "execution_count": 34,
   "id": "15e86929-82fb-43d2-ac15-d891af22fb74",
   "metadata": {},
   "outputs": [
    {
     "name": "stdout",
     "output_type": "stream",
     "text": [
      "eig vecs shape (4, 4)\n"
     ]
    }
   ],
   "source": [
    "\n",
    "n_features = 2\n",
    "projection_matrix = lda(X_train, y_train, n_features)\n",
    "output = np.dot(X_test, projection_matrix.T)"
   ]
  },
  {
   "cell_type": "code",
   "execution_count": 10,
   "id": "c7bf8e10-0b30-4228-ae3b-69172a578394",
   "metadata": {},
   "outputs": [
    {
     "data": {
      "text/plain": [
       "<matplotlib.collections.PathCollection at 0x1ee85fa6980>"
      ]
     },
     "execution_count": 10,
     "metadata": {},
     "output_type": "execute_result"
    },
    {
     "data": {
      "image/png": "[encoded data removed]",
      "text/plain": [
       "<Figure size 640x480 with 1 Axes>"
      ]
     },
     "metadata": {},
     "output_type": "display_data"
    }
   ],
   "source": [
    "# plot the scatterplot\n",
    "plt.scatter(\n",
    "    output[:, 0], output[:, 1],\n",
    "    c=y_test,\n",
    "    cmap='rainbow',\n",
    "    alpha=0.7, edgecolors='c'\n",
    ")"
   ]
  },
  {
   "cell_type": "code",
   "execution_count": 19,
   "id": "a4a6d29e",
   "metadata": {},
   "outputs": [
    {
     "data": {
      "text/plain": [
       "array([-1.69031455e-15, -1.84297022e-15, -1.69864123e-15, -1.40924309e-15])"
      ]
     },
     "execution_count": 19,
     "metadata": {},
     "output_type": "execute_result"
    }
   ],
   "source": []
  },
  {
   "cell_type": "code",
   "execution_count": null,
   "id": "830f0ca1",
   "metadata": {},
   "outputs": [],
   "source": []
  }
 ],
 "metadata": {
  "kernelspec": {
   "display_name": "Python 3 (ipykernel)",
   "language": "python",
   "name": "python3"
  },
  "language_info": {
   "codemirror_mode": {
    "name": "ipython",
    "version": 3
   },
   "file_extension": ".py",
   "mimetype": "text/x-python",
   "name": "python",
   "nbconvert_exporter": "python",
   "pygments_lexer": "ipython3",
   "version": "3.10.9"
  }
 },
 "nbformat": 4,
 "nbformat_minor": 5
}
