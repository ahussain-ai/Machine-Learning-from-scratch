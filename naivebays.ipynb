{
 "cells": [
  {
   "cell_type": "code",
   "execution_count": 2,
   "metadata": {
    "id": "sIlEhII4lhxm"
   },
   "outputs": [],
   "source": [
    "from collections import defaultdict"
   ]
  },
  {
   "cell_type": "code",
   "execution_count": 9,
   "metadata": {
    "id": "xMGYzsv4k6i0"
   },
   "outputs": [],
   "source": [
    "\n",
    "def train_multinomial_naive_bayes(X_train, y_train):\n",
    "    class_counts = defaultdict(int)\n",
    "    feature_counts = defaultdict(lambda: defaultdict(int))\n",
    "    class_total = 0\n",
    "\n",
    "    for features, label in zip(X_train, y_train):\n",
    "        class_counts[label] += 1\n",
    "        for feature in features:\n",
    "            feature_counts[label][feature] += 1\n",
    "            class_total += 1\n",
    "#     print(class_counts)\n",
    "#     print(feature_counts)\n",
    "#     print(class_total)\n",
    "    return class_counts, feature_counts, class_total\n",
    "\n"
   ]
  },
  {
   "cell_type": "code",
   "execution_count": 10,
   "metadata": {
    "id": "MaJdQfs7lz0v"
   },
   "outputs": [],
   "source": [
    "def calculate_probability(features, label, class_counts, feature_counts, class_total):\n",
    "    log_prob = 0\n",
    "    for feature in features:\n",
    "        log_prob += (feature_counts[label][feature] + 1) / (class_counts[label] + len(feature_counts[label]))\n",
    "    return log_prob\n"
   ]
  },
  {
   "cell_type": "code",
   "execution_count": 11,
   "metadata": {
    "id": "R5RfMih6lzGN"
   },
   "outputs": [],
   "source": [
    "def predict_multinomial_naive_bayes(X_test, class_counts, feature_counts, class_total):\n",
    "    predictions = []\n",
    "\n",
    "    for features in X_test:\n",
    "        max_prob = float('-inf')\n",
    "        best_class = None\n",
    "        for label in class_counts:\n",
    "            prob = calculate_probability(features, label, class_counts, feature_counts, class_total)\n",
    "            if prob > max_prob:\n",
    "                max_prob = prob\n",
    "                best_class = label\n",
    "        predictions.append(best_class)\n",
    "\n",
    "    return predictions"
   ]
  },
  {
   "cell_type": "code",
   "execution_count": 14,
   "metadata": {
    "colab": {
     "base_uri": "https://localhost:8080/"
    },
    "id": "NNNr8Ngkl2_R",
    "outputId": "1c09992e-92af-4ab5-e54c-cda77a2d49c9"
   },
   "outputs": [
    {
     "name": "stdout",
     "output_type": "stream",
     "text": [
      "['Positive']\n"
     ]
    }
   ],
   "source": [
    "\n",
    "X = [['I', 'love', 'this', 'movie'], ['This', 'movie', 'is', 'boring'], ['The', 'plot', 'is', 'exciting'], ['I', 'hate', 'this', 'movie'], ['The', 'acting', 'is', 'terrible']]\n",
    "y = ['Positive', 'Negative', 'Positive', 'Negative', 'Negative']\n",
    "\n",
    "class_counts, feature_counts, class_total = train_multinomial_naive_bayes(X, y)\n",
    "\n",
    "X_test = [[\"this\",\"is\" ,\"not\",\"not\",\"a\",\"bad\", \"movie\",\"to\",\"be\",\"honest\"]]\n",
    "predictions = predict_multinomial_naive_bayes(X_test, class_counts, feature_counts, class_total)\n",
    "print(predictions)"
   ]
  },
  {
   "cell_type": "code",
   "execution_count": null,
   "metadata": {
    "id": "3Ef-kiI8l9fb"
   },
   "outputs": [],
   "source": []
  },
  {
   "cell_type": "code",
   "execution_count": null,
   "metadata": {},
   "outputs": [],
   "source": []
  }
 ],
 "metadata": {
  "colab": {
   "provenance": []
  },
  "kernelspec": {
   "display_name": "Python 3 (ipykernel)",
   "language": "python",
   "name": "python3"
  },
  "language_info": {
   "codemirror_mode": {
    "name": "ipython",
    "version": 3
   },
   "file_extension": ".py",
   "mimetype": "text/x-python",
   "name": "python",
   "nbconvert_exporter": "python",
   "pygments_lexer": "ipython3",
   "version": "3.10.9"
  }
 },
 "nbformat": 4,
 "nbformat_minor": 1
}
