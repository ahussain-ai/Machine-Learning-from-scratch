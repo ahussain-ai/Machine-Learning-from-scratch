{
 "cells": [
  {
   "cell_type": "code",
   "execution_count": 32,
   "metadata": {},
   "outputs": [],
   "source": [
    "import pandas as pd \n",
    "import numpy as np\n",
    "from itertools import combinations"
   ]
  },
  {
   "cell_type": "code",
   "execution_count": 33,
   "metadata": {},
   "outputs": [],
   "source": [
    "df = pd.DataFrame(index = [\"T1\",\"T2\",\"T3\",\"T4\"],data = np.array([[1,0,1,1,0],[0,1,1,0,1],[1,1,1,0,1],[0,1,0,0,1]]), \n",
    "                  columns = [\"A\",\"B\",\"C\",\"D\",\"E\"])"
   ]
  },
  {
   "cell_type": "code",
   "execution_count": 34,
   "metadata": {},
   "outputs": [
    {
     "data": {
      "text/html": [
       "<div>\n",
       "<style scoped>\n",
       "    .dataframe tbody tr th:only-of-type {\n",
       "        vertical-align: middle;\n",
       "    }\n",
       "\n",
       "    .dataframe tbody tr th {\n",
       "        vertical-align: top;\n",
       "    }\n",
       "\n",
       "    .dataframe thead th {\n",
       "        text-align: right;\n",
       "    }\n",
       "</style>\n",
       "<table border=\"1\" class=\"dataframe\">\n",
       "  <thead>\n",
       "    <tr style=\"text-align: right;\">\n",
       "      <th></th>\n",
       "      <th>A</th>\n",
       "      <th>B</th>\n",
       "      <th>C</th>\n",
       "      <th>D</th>\n",
       "      <th>E</th>\n",
       "    </tr>\n",
       "  </thead>\n",
       "  <tbody>\n",
       "    <tr>\n",
       "      <th>T1</th>\n",
       "      <td>1</td>\n",
       "      <td>0</td>\n",
       "      <td>1</td>\n",
       "      <td>1</td>\n",
       "      <td>0</td>\n",
       "    </tr>\n",
       "    <tr>\n",
       "      <th>T2</th>\n",
       "      <td>0</td>\n",
       "      <td>1</td>\n",
       "      <td>1</td>\n",
       "      <td>0</td>\n",
       "      <td>1</td>\n",
       "    </tr>\n",
       "    <tr>\n",
       "      <th>T3</th>\n",
       "      <td>1</td>\n",
       "      <td>1</td>\n",
       "      <td>1</td>\n",
       "      <td>0</td>\n",
       "      <td>1</td>\n",
       "    </tr>\n",
       "    <tr>\n",
       "      <th>T4</th>\n",
       "      <td>0</td>\n",
       "      <td>1</td>\n",
       "      <td>0</td>\n",
       "      <td>0</td>\n",
       "      <td>1</td>\n",
       "    </tr>\n",
       "  </tbody>\n",
       "</table>\n",
       "</div>"
      ],
      "text/plain": [
       "    A  B  C  D  E\n",
       "T1  1  0  1  1  0\n",
       "T2  0  1  1  0  1\n",
       "T3  1  1  1  0  1\n",
       "T4  0  1  0  0  1"
      ]
     },
     "execution_count": 34,
     "metadata": {},
     "output_type": "execute_result"
    }
   ],
   "source": [
    "df"
   ]
  },
  {
   "cell_type": "code",
   "execution_count": 102,
   "metadata": {},
   "outputs": [],
   "source": [
    "min_support = 2\n",
    "min_confidence = 0.5"
   ]
  },
  {
   "cell_type": "markdown",
   "metadata": {},
   "source": [
    "# FIND FREQUENT ITEMSET FOR ALL K s"
   ]
  },
  {
   "cell_type": "code",
   "execution_count": 94,
   "metadata": {},
   "outputs": [],
   "source": [
    "def find_frequent_itemsets(df, k, min_support):\n",
    "    itemsets = []\n",
    "    \n",
    "    # Generate all possible itemsets of size k\n",
    "    itemset_candidates = list(combinations(df.columns, k))\n",
    "    \n",
    "    for candidate in itemset_candidates:\n",
    "        support = len(df[df[list(candidate)].all(axis=1)])\n",
    "        if support >= min_support:\n",
    "            itemsets.append(candidate)\n",
    "    \n",
    "    return itemsets\n"
   ]
  },
  {
   "cell_type": "code",
   "execution_count": 95,
   "metadata": {},
   "outputs": [
    {
     "name": "stdout",
     "output_type": "stream",
     "text": [
      "[('A',), ('B',), ('C',), ('E',)]\n"
     ]
    }
   ],
   "source": [
    "#Find frquent itemset for k = 1\n",
    "\n",
    "k = 1 \n",
    "frequent_itemsets_k1 = find_frequent_itemsets(df, k, min_support)\n",
    "print(frequent_itemsets_k1)"
   ]
  },
  {
   "cell_type": "code",
   "execution_count": 96,
   "metadata": {},
   "outputs": [
    {
     "name": "stdout",
     "output_type": "stream",
     "text": [
      "[('A', 'C'), ('B', 'C'), ('B', 'E'), ('C', 'E')]\n"
     ]
    }
   ],
   "source": [
    "#Find frequent itemset for k = 2\n",
    "\n",
    "k = 2 \n",
    "frequent_itemsets_k2 = find_frequent_itemsets(df, k, min_support)\n",
    "print(frequent_itemsets_k2)"
   ]
  },
  {
   "cell_type": "code",
   "execution_count": 97,
   "metadata": {},
   "outputs": [
    {
     "name": "stdout",
     "output_type": "stream",
     "text": [
      "[('B', 'C', 'E')]\n"
     ]
    }
   ],
   "source": [
    "#Find frequent itemset for k = 3\n",
    "k = 3 \n",
    "frequent_itemsets_k3 = find_frequent_itemsets(df, k, min_support)\n",
    "print(frequent_itemsets_k3)"
   ]
  },
  {
   "cell_type": "code",
   "execution_count": 98,
   "metadata": {},
   "outputs": [
    {
     "name": "stdout",
     "output_type": "stream",
     "text": [
      "[]\n"
     ]
    }
   ],
   "source": [
    "#Find frequent itemset for k = 4\n",
    "k = 4 \n",
    "frequent_itemsets_k4 = find_frequent_itemsets(df, k, min_support)\n",
    "print(frequent_itemsets_k4)"
   ]
  },
  {
   "cell_type": "code",
   "execution_count": 99,
   "metadata": {},
   "outputs": [
    {
     "name": "stdout",
     "output_type": "stream",
     "text": [
      "('A', 'B') 1\n",
      "('A', 'C') 2\n",
      "('A', 'D') 1\n",
      "('A', 'E') 1\n",
      "('B', 'C') 2\n",
      "('B', 'D') 0\n",
      "('B', 'E') 3\n",
      "('C', 'D') 1\n",
      "('C', 'E') 2\n",
      "('D', 'E') 0\n"
     ]
    }
   ],
   "source": [
    "for itemset in list(combinations(df,2)) : \n",
    "    print( itemset, len(df[df[list(itemset)].all(axis=1)]) )"
   ]
  },
  {
   "cell_type": "code",
   "execution_count": null,
   "metadata": {},
   "outputs": [],
   "source": []
  },
  {
   "cell_type": "code",
   "execution_count": 1,
   "metadata": {},
   "outputs": [],
   "source": [
    "def generate_association_rules(frequent_itemsets, df, min_confidence):\n",
    "    association_rules = []\n",
    "    \n",
    "    for itemset in frequent_itemsets:\n",
    "        for i in range(1, len(itemset)):\n",
    "            antecedent = itemset[:i]\n",
    "            consequent = itemset[i:]\n",
    "            \n",
    "            antecedent_df = df[list(antecedent)]\n",
    "            antecedent_support = len(antecedent_df[(antecedent_df == 1).all(axis=1)])\n",
    "            \n",
    "            itemset_df = df[list(itemset)]\n",
    "            itemset_support = len(itemset_df[(itemset_df == 1).all(axis=1)])\n",
    "            \n",
    "            confidence = itemset_support / antecedent_support\n",
    "            \n",
    "            if confidence >= min_confidence:\n",
    "                rule = (antecedent, consequent)\n",
    "                association_rules.append(rule)\n",
    "    \n",
    "    return association_rules"
   ]
  },
  {
   "cell_type": "code",
   "execution_count": 106,
   "metadata": {},
   "outputs": [
    {
     "name": "stdout",
     "output_type": "stream",
     "text": [
      "('C',)\n",
      "('B', 'E')\n",
      "('C', 'B')\n",
      "('E',)\n"
     ]
    },
    {
     "data": {
      "text/plain": [
       "[(('C',), ('B', 'E')), (('C', 'B'), ('E',))]"
      ]
     },
     "execution_count": 106,
     "metadata": {},
     "output_type": "execute_result"
    }
   ],
   "source": [
    "generate_association_rules(frequent_itemset_k3,df,min_confidence)"
   ]
  },
  {
   "cell_type": "code",
   "execution_count": null,
   "metadata": {},
   "outputs": [],
   "source": []
  }
 ],
 "metadata": {
  "kernelspec": {
   "display_name": "Python 3 (ipykernel)",
   "language": "python",
   "name": "python3"
  },
  "language_info": {
   "codemirror_mode": {
    "name": "ipython",
    "version": 3
   },
   "file_extension": ".py",
   "mimetype": "text/x-python",
   "name": "python",
   "nbconvert_exporter": "python",
   "pygments_lexer": "ipython3",
   "version": "3.10.9"
  }
 },
 "nbformat": 4,
 "nbformat_minor": 1
}
